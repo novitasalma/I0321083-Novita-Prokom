{
 "cells": [
  {
   "cell_type": "markdown",
   "metadata": {},
   "source": [
    "***\n",
    "<h1 align=\"center\">Exercise 11</h1>\n",
    " \n",
    "***\n",
    "## Membuat Modul\n",
    "Silakan perhatikan file **Geometri2D** di ./data. \n",
    "Kemudian buatlah kode seperti berikut:\n",
    "\n",
    "![](./images/11_Geometri2D.png)\n"
   ]
  },
  {
   "cell_type": "markdown",
   "metadata": {},
   "source": [
    "## Perintah Import \n",
    "Buatlah kode seperti berikut:\n",
    "\n",
    "![](./images/11_Import.png)\n",
    "\n",
    "Ubah variabel **p** dengan **3 digit nim terakhir kalian** dan variabel **l** dengan **tanggal kalian mengerjakan**."
   ]
  },
  {
   "cell_type": "code",
   "execution_count": 8,
   "metadata": {},
   "outputs": [
    {
     "name": "stdout",
     "output_type": "stream",
     "text": [
      "Persegi Panjang\n",
      "Panjang\t\t: 83\n",
      "Lebar\t\t: 29\n",
      "Luas\t\t: 2407\n",
      "Keliling\t: 224\n"
     ]
    }
   ],
   "source": [
    "# Kerjakan di sini\n",
    "from Data import Geometri2D\n",
    "p = 83\n",
    "l = 29\n",
    "\n",
    "luas = Geometri2D.LuasPersegiPanjang(p,l)\n",
    "kel = Geometri2D.KelilingPersegiPanjang(p,l)\n",
    "\n",
    "print(\"Persegi Panjang\")\n",
    "print(\"Panjang\\t\\t:\", p)\n",
    "print(\"Lebar\\t\\t:\", l)\n",
    "print(\"Luas\\t\\t:\", luas)\n",
    "print(\"Keliling\\t:\", kel)"
   ]
  },
  {
   "cell_type": "markdown",
   "metadata": {},
   "source": [
    "## Perintah From...Import \n",
    "Buatlah kode seperti berikut:\n",
    "\n",
    "![](./images/11_FromImport.png)\n",
    "\n",
    "Ubah variabel **p** dengan **3 digit nim terakhir kalian** dan variabel **l** dengan **tanggal kalian mengerjakan**."
   ]
  },
  {
   "cell_type": "code",
   "execution_count": 9,
   "metadata": {},
   "outputs": [
    {
     "name": "stdout",
     "output_type": "stream",
     "text": [
      "Persegi Panjang\n",
      "Panjang\t\t: 83\n",
      "Lebar\t\t: 6\n",
      "Luas\t\t: 498\n"
     ]
    }
   ],
   "source": [
    "# Kerjakan di sini\n",
    "from Data.Geometri2D import LuasPersegiPanjang\n",
    "p = 83\n",
    "l = 6\n",
    "\n",
    "luas = LuasPersegiPanjang(p,l)\n",
    "\n",
    "print(\"Persegi Panjang\")\n",
    "print(\"Panjang\\t\\t:\", p)\n",
    "print(\"Lebar\\t\\t:\", l)\n",
    "print(\"Luas\\t\\t:\", luas)"
   ]
  },
  {
   "cell_type": "markdown",
   "metadata": {},
   "source": [
    "## Membuat Alias/Nama Lain Modul \n",
    "### 1. Nama Modul\n",
    "Buatlah kode seperti berikut:\n",
    "\n",
    "![](./images/11_Alias.png)\n",
    "\n",
    "Ubah variabel **p** dengan **3 digit nim terakhir kalian** dan variabel **l** dengan **tanggal kalian mengerjakan**."
   ]
  },
  {
   "cell_type": "code",
   "execution_count": 10,
   "metadata": {},
   "outputs": [
    {
     "name": "stdout",
     "output_type": "stream",
     "text": [
      "Persegi Panjang\n",
      "Panjang\t\t: 83\n",
      "Lebar\t\t: 6\n",
      "Luas\t\t: 498\n"
     ]
    }
   ],
   "source": [
    "# Kerjakan di sini\n",
    "from Data import Geometri2D as DuaD\n",
    "p = 83\n",
    "l = 6\n",
    "\n",
    "luas = DuaD.LuasPersegiPanjang(p,l)\n",
    "\n",
    "print(\"Persegi Panjang\")\n",
    "print(\"Panjang\\t\\t:\", p)\n",
    "print(\"Lebar\\t\\t:\", l)\n",
    "print(\"Luas\\t\\t:\", luas)"
   ]
  },
  {
   "cell_type": "markdown",
   "metadata": {},
   "source": [
    "### 2. Nama Fungsi\n",
    "Buatlah kode seperti berikut:\n",
    "\n",
    "![](./images/11_Alias2.png)\n",
    "\n",
    "Ubah variabel **p** dengan **3 digit nim terakhir kalian** dan variabel **l** dengan **tanggal kalian mengerjakan**."
   ]
  },
  {
   "cell_type": "code",
   "execution_count": 11,
   "metadata": {},
   "outputs": [
    {
     "name": "stdout",
     "output_type": "stream",
     "text": [
      "Persegi Panjang\n",
      "Panjang\t\t: 83\n",
      "Lebar\t\t: 6\n",
      "Luas\t\t: 498\n"
     ]
    }
   ],
   "source": [
    "# Kerjakan di sini\n",
    "from Data.Geometri2D import LuasPersegiPanjang as LPP\n",
    "p = 83\n",
    "l = 6\n",
    "\n",
    "luas = LPP(p,l)\n",
    "\n",
    "print(\"Persegi Panjang\")\n",
    "print(\"Panjang\\t\\t:\", p)\n",
    "print(\"Lebar\\t\\t:\", l)\n",
    "print(\"Luas\\t\\t:\", luas)"
   ]
  },
  {
   "cell_type": "markdown",
   "metadata": {},
   "source": [
    "## Membuat Paket \n",
    "Silakan perhatikan file **__init__.py** di ./Data.\n",
    "Kemudian isikan kode berikut ke dalam file **__init__.py**:\n",
    "\n",
    "![](./images/11_init.png)\n"
   ]
  },
  {
   "cell_type": "markdown",
   "metadata": {},
   "source": [
    "## Menggunakan Paket\n",
    "Buatlah kode seperti berikut:\n",
    "\n",
    "![](./images/11_Paket.png)\n",
    "\n",
    "Ubah variabel **sisi** dengan **tanggal kalian mengerjakan**."
   ]
  },
  {
   "cell_type": "code",
   "execution_count": 12,
   "metadata": {},
   "outputs": [
    {
     "name": "stdout",
     "output_type": "stream",
     "text": [
      "Bujur Sangkar\n",
      "Panjang Sisi\t:  6\n",
      "Luas\t\t:  36\n"
     ]
    }
   ],
   "source": [
    "# Kerjakan di sini\n",
    "import Data.Geometri2D\n",
    "def main():\n",
    "    sisi = 6\n",
    "    luas = Data.Geometri2D.LuasBujurSangkar(sisi)\n",
    "    print(\"Bujur Sangkar\")\n",
    "    print(\"Panjang Sisi\\t: \", sisi)\n",
    "    print(\"Luas\\t\\t: \" ,luas)\n",
    "\n",
    "if __name__ == \"__main__\":\n",
    "    main()"
   ]
  },
  {
   "cell_type": "markdown",
   "metadata": {},
   "source": [
    "***\n",
    "<h1 align=\"center\">Well Done!!!</h1>\n",
    "\n",
    "***"
   ]
  }
 ],
 "metadata": {
  "interpreter": {
   "hash": "f2ccb58c476f33ba3e3aee7ac07234ef6b8217ef24ad64d2a7d4fed1a57c1cd2"
  },
  "kernelspec": {
   "display_name": "Python 3.10.2 64-bit",
   "language": "python",
   "name": "python3"
  },
  "language_info": {
   "codemirror_mode": {
    "name": "ipython",
    "version": 3
   },
   "file_extension": ".py",
   "mimetype": "text/x-python",
   "name": "python",
   "nbconvert_exporter": "python",
   "pygments_lexer": "ipython3",
   "version": "3.10.2"
  },
  "orig_nbformat": 4
 },
 "nbformat": 4,
 "nbformat_minor": 2
}
